{
 "cells": [
  {
   "cell_type": "code",
   "execution_count": null,
   "id": "69d3e1dd",
   "metadata": {},
   "outputs": [],
   "source": [
    "from sklearn.preprocessing import MinMaxScaler\n",
    "import numpy as np\n",
    "from collections import Counter\n",
    "class somecoolname:\n",
    "    def __init__(self,X,Y,k):\n",
    "        self.X1 = X\n",
    "        self.Y = Y\n",
    "        self.k = k\n",
    "        area = self.X1.shape[2]*self.X1.shape[3]\n",
    "        length = self.Y.shape[0]\n",
    "        self.X = np.zeros((length,area))\n",
    "        for i in range(length):\n",
    "            self.X[i] = self.X1[i].flatten()\n",
    "    def prepro(self,X):\n",
    "        scaler = MinMaxScaler()\n",
    "        return scaler.fit_transform(X)\n",
    "    def rotate(self,X):\n",
    "        return np.rot90(X,k = 1 , axes =(1,2))\n",
    "    def predict(self,test_im):\n",
    "        distances = []\n",
    "        for i in range(self.Y.shape[0]):\n",
    "            norm = 1e10\n",
    "            for j in range(4):\n",
    "                test_vector = test_im.flatten()\n",
    "                curr = np.norm(test_vector - self.X[i])\n",
    "                norm = min(norm,curr)\n",
    "                test_im = rotate(test_im)\n",
    "            distances.append(norm)\n",
    "        distances = np.array(distances)\n",
    "        indexes = np.argsort(distances)[:self.K]\n",
    "        label = []\n",
    "        for i in range(self.k):\n",
    "            label.append(self.Y[indexes[i]])\n",
    "        label = np.squeeze(np.array(label))\n",
    "        return np.bincount(label).argmax()\n",
    "    def checkacc(self,x_test_l,y_test_l =None):\n",
    "        if(y_test_l!=None):\n",
    "            predictions = []\n",
    "            for i in range(y_test_l.shape[0]):\n",
    "                y_test = y_test_l[i]\n",
    "                y_pred = self.predict(x_test[i])\n",
    "                predictions.append(y_pred-y_test)\n",
    "            predictions = np.array(predictions)\n",
    "            predictions = predictions.reshape((y_test_l.shape[0],1))\n",
    "            accuracy = (y_test_l.shape[0] - np.count_nonzero(predictions))/y_test_l.shape[0]\n",
    "            return predictions\n",
    "        else :\n",
    "            predictions = []\n",
    "            for i in range(x_test.shape[0]):\n",
    "                y_pred = self.predict(x_test[i])\n",
    "                predictions.append(y_pred-y_test)\n",
    "            predictions = np.array(predictions)\n",
    "            predictions = predictions.reshape((x_test.shape[0],1))\n",
    "            return predictions\n",
    "        \n",
    "    "
   ]
  },
  {
   "cell_type": "code",
   "execution_count": 1,
   "id": "1c2b7a7e",
   "metadata": {},
   "outputs": [],
   "source": [
    "import numpy as np"
   ]
  },
  {
   "cell_type": "code",
   "execution_count": 21,
   "id": "583aa13a",
   "metadata": {},
   "outputs": [],
   "source": [
    "a = np.random.randint(-6,6,(10,3,4,4))"
   ]
  },
  {
   "cell_type": "code",
   "execution_count": 22,
   "id": "d9e75681",
   "metadata": {},
   "outputs": [
    {
     "name": "stdout",
     "output_type": "stream",
     "text": [
      "[[[[-4 -3 -5  3]\n",
      "   [ 4  3 -6 -2]\n",
      "   [-1  2 -2  1]\n",
      "   [-2 -6 -1 -3]]\n",
      "\n",
      "  [[ 5  3  2  2]\n",
      "   [-1  0 -5 -5]\n",
      "   [-2 -2  1 -1]\n",
      "   [ 5 -5 -1 -6]]\n",
      "\n",
      "  [[-6 -2  3  5]\n",
      "   [ 5  5  0 -6]\n",
      "   [-2 -1 -2  3]\n",
      "   [-2 -1 -4 -1]]]\n",
      "\n",
      "\n",
      " [[[ 2  2 -6 -1]\n",
      "   [ 1 -3  4 -4]\n",
      "   [ 2 -3 -3 -6]\n",
      "   [ 3 -1 -2  2]]\n",
      "\n",
      "  [[-6 -6 -2  1]\n",
      "   [ 4 -3 -2  2]\n",
      "   [ 4  5  4  3]\n",
      "   [-3 -1 -2  1]]\n",
      "\n",
      "  [[-4  3 -6 -4]\n",
      "   [-5 -1 -2  4]\n",
      "   [ 4 -1 -1  1]\n",
      "   [-2  3  4 -4]]]\n",
      "\n",
      "\n",
      " [[[-2 -1 -2 -3]\n",
      "   [-1  4  4 -2]\n",
      "   [ 0 -3  4 -5]\n",
      "   [-1  4 -1 -5]]\n",
      "\n",
      "  [[-4  4  4 -1]\n",
      "   [-6 -1 -3 -3]\n",
      "   [-6  4  0 -6]\n",
      "   [-1 -6  1  5]]\n",
      "\n",
      "  [[ 0 -4 -6 -2]\n",
      "   [ 2 -5  0 -1]\n",
      "   [ 3  2  2  0]\n",
      "   [ 5 -2 -5  0]]]\n",
      "\n",
      "\n",
      " [[[ 2 -5  3 -1]\n",
      "   [-2 -4 -2 -6]\n",
      "   [ 0 -6  3  4]\n",
      "   [ 2 -3 -5  5]]\n",
      "\n",
      "  [[ 2  0  2 -2]\n",
      "   [-3  4  2  4]\n",
      "   [ 4  3  2 -2]\n",
      "   [ 3  4 -4  1]]\n",
      "\n",
      "  [[ 5 -2 -3 -4]\n",
      "   [ 5  3  1 -1]\n",
      "   [-6 -3  1 -2]\n",
      "   [ 0 -1  3 -6]]]\n",
      "\n",
      "\n",
      " [[[ 2  0 -1 -4]\n",
      "   [ 3 -4  3  4]\n",
      "   [-3  2  1 -4]\n",
      "   [ 1  0 -3  0]]\n",
      "\n",
      "  [[-4 -5 -2 -2]\n",
      "   [ 4  2 -5  5]\n",
      "   [-4  5 -6 -1]\n",
      "   [-3  3 -4  1]]\n",
      "\n",
      "  [[ 1 -5  4 -6]\n",
      "   [ 5  3  1 -6]\n",
      "   [-3  1 -4  4]\n",
      "   [ 5 -3  4  5]]]\n",
      "\n",
      "\n",
      " [[[-2 -3  1  0]\n",
      "   [ 2  4 -2 -5]\n",
      "   [-3 -3 -4  3]\n",
      "   [-4 -6 -1  5]]\n",
      "\n",
      "  [[-6 -2  3 -5]\n",
      "   [ 2  3 -6  2]\n",
      "   [-3 -3  5  0]\n",
      "   [-2 -2 -2 -4]]\n",
      "\n",
      "  [[-5  4  3  5]\n",
      "   [-6 -2  2  5]\n",
      "   [-4 -3 -3  4]\n",
      "   [-4  5  0  4]]]\n",
      "\n",
      "\n",
      " [[[-1 -6  3  5]\n",
      "   [-4 -3 -4 -6]\n",
      "   [ 4  3  1  3]\n",
      "   [-1 -5 -6  2]]\n",
      "\n",
      "  [[ 5 -5  3  5]\n",
      "   [ 2  5 -6 -2]\n",
      "   [ 0 -5 -5  4]\n",
      "   [ 0 -1 -2 -5]]\n",
      "\n",
      "  [[ 1 -2 -1 -6]\n",
      "   [-6  4 -2  4]\n",
      "   [-3  4 -2  0]\n",
      "   [ 4 -2  5  3]]]\n",
      "\n",
      "\n",
      " [[[-1 -3  3  0]\n",
      "   [ 3  1 -1  1]\n",
      "   [-1 -2  3 -1]\n",
      "   [ 3  4  3  1]]\n",
      "\n",
      "  [[-4  4  2  0]\n",
      "   [ 1 -1  3 -1]\n",
      "   [ 5 -6  4 -1]\n",
      "   [-5 -3 -1 -3]]\n",
      "\n",
      "  [[ 2  3 -2 -6]\n",
      "   [ 2  3  5  4]\n",
      "   [-6  0  4 -5]\n",
      "   [-4  2  2 -2]]]\n",
      "\n",
      "\n",
      " [[[ 3 -1 -2  5]\n",
      "   [ 0  1  2  2]\n",
      "   [ 5 -1  2  4]\n",
      "   [ 1  5 -3 -4]]\n",
      "\n",
      "  [[-3  4  2 -4]\n",
      "   [-6 -3 -6  5]\n",
      "   [-2  4  5 -3]\n",
      "   [-2 -1 -1 -1]]\n",
      "\n",
      "  [[-5 -5 -4 -5]\n",
      "   [ 3  1 -1 -3]\n",
      "   [ 5  4 -6  0]\n",
      "   [ 1  3  1  5]]]\n",
      "\n",
      "\n",
      " [[[-1  5  5  2]\n",
      "   [-6 -2  1 -6]\n",
      "   [-2  0 -4 -3]\n",
      "   [-5 -5 -6 -5]]\n",
      "\n",
      "  [[-4  5 -1 -1]\n",
      "   [ 1  5  3  2]\n",
      "   [ 3 -4 -3  5]\n",
      "   [-1  1 -1  1]]\n",
      "\n",
      "  [[-2 -4  5 -4]\n",
      "   [ 1  3 -5 -1]\n",
      "   [-2  4 -1  3]\n",
      "   [-6 -4 -5 -2]]]]\n"
     ]
    }
   ],
   "source": [
    "print(a)"
   ]
  },
  {
   "cell_type": "code",
   "execution_count": 24,
   "id": "92f66d88",
   "metadata": {},
   "outputs": [
    {
     "name": "stdout",
     "output_type": "stream",
     "text": [
      "(3, 4, 4)\n"
     ]
    }
   ],
   "source": [
    "print(a[0].shape)"
   ]
  },
  {
   "cell_type": "code",
   "execution_count": 12,
   "id": "ddbd8c77",
   "metadata": {},
   "outputs": [
    {
     "name": "stdout",
     "output_type": "stream",
     "text": [
      "[[[-2  3  5  3]\n",
      "  [ 2 -6 -5  1]\n",
      "  [ 3 -6  5  1]\n",
      "  [ 5  3  2 -1]]\n",
      "\n",
      " [[-3  1 -3  4]\n",
      "  [-6  5 -2 -1]\n",
      "  [ 5 -2 -2  0]\n",
      "  [ 4  3  1 -3]]\n",
      "\n",
      " [[ 3 -1  0 -4]\n",
      "  [-5 -1 -1  0]\n",
      "  [-6 -1  1 -4]\n",
      "  [ 0  2  1  4]]]\n"
     ]
    }
   ],
   "source": [
    "print(a1)"
   ]
  },
  {
   "cell_type": "code",
   "execution_count": 15,
   "id": "b91785fb",
   "metadata": {},
   "outputs": [],
   "source": [
    "a1 = a1.flatten()"
   ]
  },
  {
   "cell_type": "code",
   "execution_count": 16,
   "id": "702902e4",
   "metadata": {},
   "outputs": [
    {
     "name": "stdout",
     "output_type": "stream",
     "text": [
      "[-2  3  5  3  2 -6 -5  1  3 -6  5  1  5  3  2 -1 -3  1 -3  4 -6  5 -2 -1\n",
      "  5 -2 -2  0  4  3  1 -3  3 -1  0 -4 -5 -1 -1  0 -6 -1  1 -4  0  2  1  4]\n"
     ]
    }
   ],
   "source": [
    "print(a1)"
   ]
  },
  {
   "cell_type": "code",
   "execution_count": 17,
   "id": "3f28f7f8",
   "metadata": {},
   "outputs": [],
   "source": [
    "a = np.zeros((3,48))\n",
    "a[0]=a1"
   ]
  },
  {
   "cell_type": "code",
   "execution_count": 20,
   "id": "2480e27c",
   "metadata": {},
   "outputs": [
    {
     "name": "stdout",
     "output_type": "stream",
     "text": [
      "[0 2 3 4 1]\n"
     ]
    }
   ],
   "source": [
    "x = [1,99,3,4,45]\n",
    "print(np.argsort(x))"
   ]
  },
  {
   "cell_type": "code",
   "execution_count": null,
   "id": "53c4aef9",
   "metadata": {},
   "outputs": [],
   "source": []
  }
 ],
 "metadata": {
  "kernelspec": {
   "display_name": "Python 3 (ipykernel)",
   "language": "python",
   "name": "python3"
  },
  "language_info": {
   "codemirror_mode": {
    "name": "ipython",
    "version": 3
   },
   "file_extension": ".py",
   "mimetype": "text/x-python",
   "name": "python",
   "nbconvert_exporter": "python",
   "pygments_lexer": "ipython3",
   "version": "3.7.11"
  }
 },
 "nbformat": 4,
 "nbformat_minor": 5
}
